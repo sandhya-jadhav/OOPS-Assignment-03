{
 "cells": [
  {
   "cell_type": "markdown",
   "id": "d91cced0-3302-490f-a1c5-0c7b3491fd96",
   "metadata": {},
   "source": [
    "### Q1. What is Abstraction in OOps? Explain with an example."
   ]
  },
  {
   "cell_type": "markdown",
   "id": "17571860-f1e0-40b8-8d15-ee87107d5541",
   "metadata": {},
   "source": [
    "#### Abstraction in Object-Oriented Programming (OOP) is the concept of hiding the complex implementation details of a system and exposing only the essential features to the user. It allows a developer to interact with an object or system without needing to understand the underlying complexity of its implementation."
   ]
  },
  {
   "cell_type": "code",
   "execution_count": 2,
   "id": "7e54292d-0e66-4593-a358-c3aef0263113",
   "metadata": {},
   "outputs": [],
   "source": [
    "from abc import ABC, abstractmethod   \n",
    "class Car(ABC):   \n",
    "    def mileage(self):   \n",
    "        pass  \n",
    "class Tesla(Car):   \n",
    "    def mileage(self):   \n",
    "        print(\"The mileage is 30kmph\")   \n",
    "class Suzuki(Car):   \n",
    "    def mileage(self):   \n",
    "        print(\"The mileage is 25kmph \")   \n",
    "class Duster(Car):   \n",
    "     def mileage(self):   \n",
    "        print(\"The mileage is 24kmph \")   \n",
    "class Renault(Car):   \n",
    "    def mileage(self):   \n",
    "            print(\"The mileage is 27kmph \")   \n",
    "        "
   ]
  },
  {
   "cell_type": "markdown",
   "id": "d16f2ee7-9037-499d-93af-ae51fd5a0209",
   "metadata": {},
   "source": [
    "### Q2. Differentiate between Abstraction and Encapsulation. Explain with an example."
   ]
  },
  {
   "cell_type": "markdown",
   "id": "b1ca052d-1a76-49f2-9982-c8ce65ef9191",
   "metadata": {},
   "source": [
    "#### Abstraction : : It is the process of gaining information. The problems in this technique are solved at the interface level. It helps hide the unwanted details/information.  It can be implemented using abstract classes and interfaces.  The complexities of the implementation are hidden using interface and abstract class. Abstraction can be performed using objects that are encapsulated within a single module."
   ]
  },
  {
   "cell_type": "markdown",
   "id": "ceb26267-f5b0-4d79-bef9-4f7932df0a40",
   "metadata": {},
   "source": [
    "#### Encapsulation : : It is a method that helps wrap up data into a single module. Problems in encapsulation are solved at the implementation level.  It helps hide data using a single entity, or using a unit with the help of method that helps protect the information.  It can be implemented using access modifiers like public, private and protected.  The data is hidden using methods such as getters and setters.  Objects in encapsulation don't need to be in abstraction.  \n",
    "\n"
   ]
  },
  {
   "cell_type": "code",
   "execution_count": 3,
   "id": "845de84c-73b0-4021-a09f-9e1fe4934fe6",
   "metadata": {},
   "outputs": [],
   "source": [
    "class BankAccount:\n",
    "    def __init__(self, balance):\n",
    "        self.__balance = balance \n",
    "\n",
    "    def deposit(self, amount):\n",
    "        if amount > 0:\n",
    "            self.__balance += amount\n",
    "\n",
    "    def get_balance(self):\n",
    "        return self.__balance\n"
   ]
  },
  {
   "cell_type": "markdown",
   "id": "f8fadd2a-a8ad-4bb4-8f72-e12344d58e38",
   "metadata": {},
   "source": [
    "### Q3. What is abc module in python? Why is it used?"
   ]
  },
  {
   "cell_type": "markdown",
   "id": "0ee722c6-3d76-4afb-be19-0fa51cb67127",
   "metadata": {},
   "source": [
    "#### Abstract Base Class (ABC) allow us to define a blueprint for other classes. This blueprint ensures that any class deriving from the Abstract Base Class (ABC) implements certain methods by providing a consistent interface.Abstract Base Class (ABC) is useful in large projects where multiple developers might work on different parts of the codebase. They provide a clear template for developers to follow which ensure consistency and reducing errors.\n",
    "\n"
   ]
  },
  {
   "cell_type": "markdown",
   "id": "b62fb304-f605-4ee6-a5da-c804cf8cdf8d",
   "metadata": {},
   "source": [
    "### Q4. How can we achieve data abstraction?"
   ]
  },
  {
   "cell_type": "markdown",
   "id": "7dd7f997-163d-4885-a0c5-05cac43e426e",
   "metadata": {},
   "source": [
    "#### In Python, we can achieve data abstraction by using abstract classes and abstract classes can be created using abc (abstract base class) module and abstractmethod of abc module."
   ]
  },
  {
   "cell_type": "markdown",
   "id": "46380815-2353-41ca-9d22-b4f4590c4755",
   "metadata": {},
   "source": [
    "### Q5. Can we create an instance of an abstract class? Explain your answer.\n"
   ]
  },
  {
   "cell_type": "code",
   "execution_count": null,
   "id": "232794b5-8d7d-460c-8b44-81fae97033a5",
   "metadata": {},
   "outputs": [],
   "source": []
  }
 ],
 "metadata": {
  "kernelspec": {
   "display_name": "Python 3 (ipykernel)",
   "language": "python",
   "name": "python3"
  },
  "language_info": {
   "codemirror_mode": {
    "name": "ipython",
    "version": 3
   },
   "file_extension": ".py",
   "mimetype": "text/x-python",
   "name": "python",
   "nbconvert_exporter": "python",
   "pygments_lexer": "ipython3",
   "version": "3.10.8"
  }
 },
 "nbformat": 4,
 "nbformat_minor": 5
}
